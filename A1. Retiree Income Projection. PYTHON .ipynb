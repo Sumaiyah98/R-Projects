{
 "cells": [
  {
   "cell_type": "markdown",
   "id": "e50cc72a",
   "metadata": {},
   "source": [
    "<div style=\"float: left;\">\n",
    "    <img src=\"HULT_IBS_Logo_Outline_Black_(cropped).png\" alt=\"Logo\" style=\"width: 200px;\"/>\n",
    "</div>"
   ]
  },
  {
   "cell_type": "markdown",
   "id": "91713636",
   "metadata": {},
   "source": [
    "#### **Student Names:**\n",
    "Sumaio Abdullahi Rage \n",
    "\n",
    "Daniella Opoku Darkwah"
   ]
  },
  {
   "cell_type": "markdown",
   "id": "8ee9272b",
   "metadata": {},
   "source": [
    "### **A1: Retiree Income Projection**"
   ]
  },
  {
   "cell_type": "markdown",
   "id": "e1524e96",
   "metadata": {},
   "source": [
    "### **Executive Summary**\n",
    "                       \n",
    "The \"Retiree Income Projection\" project seeks to address the complexities of retirement planning by offering a comprehensive Python-based solution. This program models a real-life personal savings plan and cash flow, taking into account various factors such as inflation rates, state-specific tax regulations, and federal tax policies.\n",
    "\n",
    "The project employs a series of functions to calculate yearly balances, incorporating elements like savings interest, IRA (Individual Retirement Account) interest, and required minimum distributions (RMDs) for retirees aged 72 and above. By projecting the cash flow over a specified number of years, users can gain insights into their financial well-being during retirement.\n",
    "\n",
    "Key functionalities include the ability to input initial savings, IRA balances, annual spending, current age, and the state of residence. The program leverages data from CSV files, such as inflation rates, state tax rates, federal tax brackets, and life expectancy, providing a dynamic and customizable platform for retirees to assess their financial outlook.\n",
    "\n",
    "This Retiree Income Projection project aims to empower individuals in making informed decisions about their retirement finances, offering a tool that considers both the macroeconomic factors influencing income and the intricacies of individual financial plans. Whether planning for the golden years in Massachusetts or California, this Python program provides a versatile framework for retirees to project their income "
   ]
  },
  {
   "cell_type": "code",
   "execution_count": 28,
   "id": "a577fb9b",
   "metadata": {},
   "outputs": [],
   "source": [
    "import pandas as pd\n",
    "\n",
    "# Load the Inflation Rate data\n",
    "data_path = \"./data/\"\n",
    "inflation = \"Inflation Rate.csv\"\n",
    "inflation_rate_df = pd.read_csv(data_path + inflation)\n",
    "\n",
    "# Load the MA Tax Rate data\n",
    "ma_tax =\"Ma Tax Rate.csv\"\n",
    "ma_tax_rate_df = pd.read_csv(data_path + ma_tax)\n",
    "\n",
    "# Load the Federal Tax data\n",
    "federaltaxs =\"Federal Tax.csv\" \n",
    "federal_tax_df = pd.read_csv(data_path + federaltaxs)\n",
    "\n",
    "# Load the State Tax data\n",
    "state = \"State Tax.csv\"\n",
    "state_tax_df = pd.read_csv(data_path + state)\n",
    "\n",
    "# Load the Life Expectancy data\n",
    "life = \"Life_expectency.csv\"\n",
    "life_expectancy_df = pd.read_csv(data_path + life)\n",
    "\n",
    "# Create working copies of the dataframes\n",
    "inflation_rate_copy = inflation_rate_df.copy()\n",
    "ma_tax_rate_copy = ma_tax_rate_df.copy()\n",
    "federal_tax_copy = federal_tax_df.copy()\n",
    "state_tax_copy = state_tax_df.copy()\n",
    "life_expectancy_copy = life_expectancy_df.copy()"
   ]
  },
  {
   "cell_type": "code",
   "execution_count": 29,
   "id": "4072a5b8",
   "metadata": {},
   "outputs": [
    {
     "data": {
      "text/html": [
       "<div>\n",
       "<style scoped>\n",
       "    .dataframe tbody tr th:only-of-type {\n",
       "        vertical-align: middle;\n",
       "    }\n",
       "\n",
       "    .dataframe tbody tr th {\n",
       "        vertical-align: top;\n",
       "    }\n",
       "\n",
       "    .dataframe thead th {\n",
       "        text-align: right;\n",
       "    }\n",
       "</style>\n",
       "<table border=\"1\" class=\"dataframe\">\n",
       "  <thead>\n",
       "    <tr style=\"text-align: right;\">\n",
       "      <th></th>\n",
       "      <th>Year</th>\n",
       "      <th>Percentage Change</th>\n",
       "    </tr>\n",
       "  </thead>\n",
       "  <tbody>\n",
       "    <tr>\n",
       "      <th>0</th>\n",
       "      <td>2023</td>\n",
       "      <td>0.08</td>\n",
       "    </tr>\n",
       "    <tr>\n",
       "      <th>1</th>\n",
       "      <td>2024</td>\n",
       "      <td>0.03</td>\n",
       "    </tr>\n",
       "    <tr>\n",
       "      <th>2</th>\n",
       "      <td>2025</td>\n",
       "      <td>0.03</td>\n",
       "    </tr>\n",
       "    <tr>\n",
       "      <th>3</th>\n",
       "      <td>2026</td>\n",
       "      <td>0.02</td>\n",
       "    </tr>\n",
       "    <tr>\n",
       "      <th>4</th>\n",
       "      <td>2027</td>\n",
       "      <td>0.02</td>\n",
       "    </tr>\n",
       "  </tbody>\n",
       "</table>\n",
       "</div>"
      ],
      "text/plain": [
       "   Year  Percentage Change\n",
       "0  2023               0.08\n",
       "1  2024               0.03\n",
       "2  2025               0.03\n",
       "3  2026               0.02\n",
       "4  2027               0.02"
      ]
     },
     "execution_count": 29,
     "metadata": {},
     "output_type": "execute_result"
    }
   ],
   "source": [
    "# Display the head of each dataframe to confirm\n",
    "\n",
    "inflation_rate_copy.head()"
   ]
  },
  {
   "cell_type": "code",
   "execution_count": 30,
   "id": "34110132",
   "metadata": {},
   "outputs": [
    {
     "data": {
      "text/html": [
       "<div>\n",
       "<style scoped>\n",
       "    .dataframe tbody tr th:only-of-type {\n",
       "        vertical-align: middle;\n",
       "    }\n",
       "\n",
       "    .dataframe tbody tr th {\n",
       "        vertical-align: top;\n",
       "    }\n",
       "\n",
       "    .dataframe thead th {\n",
       "        text-align: right;\n",
       "    }\n",
       "</style>\n",
       "<table border=\"1\" class=\"dataframe\">\n",
       "  <thead>\n",
       "    <tr style=\"text-align: right;\">\n",
       "      <th></th>\n",
       "      <th>MA Tax Rate</th>\n",
       "    </tr>\n",
       "  </thead>\n",
       "  <tbody>\n",
       "    <tr>\n",
       "      <th>0</th>\n",
       "      <td>0.05</td>\n",
       "    </tr>\n",
       "  </tbody>\n",
       "</table>\n",
       "</div>"
      ],
      "text/plain": [
       "   MA Tax Rate\n",
       "0         0.05"
      ]
     },
     "execution_count": 30,
     "metadata": {},
     "output_type": "execute_result"
    }
   ],
   "source": [
    "# Display the head of each dataframe to confirm\n",
    "ma_tax_rate_copy.head()"
   ]
  },
  {
   "cell_type": "code",
   "execution_count": 31,
   "id": "0182a5ae",
   "metadata": {},
   "outputs": [
    {
     "data": {
      "text/html": [
       "<div>\n",
       "<style scoped>\n",
       "    .dataframe tbody tr th:only-of-type {\n",
       "        vertical-align: middle;\n",
       "    }\n",
       "\n",
       "    .dataframe tbody tr th {\n",
       "        vertical-align: top;\n",
       "    }\n",
       "\n",
       "    .dataframe thead th {\n",
       "        text-align: right;\n",
       "    }\n",
       "</style>\n",
       "<table border=\"1\" class=\"dataframe\">\n",
       "  <thead>\n",
       "    <tr style=\"text-align: right;\">\n",
       "      <th></th>\n",
       "      <th>Bracket</th>\n",
       "      <th>Over</th>\n",
       "      <th>Up to</th>\n",
       "      <th>Base Tax</th>\n",
       "      <th>On excess</th>\n",
       "    </tr>\n",
       "  </thead>\n",
       "  <tbody>\n",
       "    <tr>\n",
       "      <th>0</th>\n",
       "      <td>1</td>\n",
       "      <td>0.00</td>\n",
       "      <td>20.20</td>\n",
       "      <td>0.00</td>\n",
       "      <td>0.01</td>\n",
       "    </tr>\n",
       "    <tr>\n",
       "      <th>1</th>\n",
       "      <td>2</td>\n",
       "      <td>20.20</td>\n",
       "      <td>47.88</td>\n",
       "      <td>0.22</td>\n",
       "      <td>0.02</td>\n",
       "    </tr>\n",
       "    <tr>\n",
       "      <th>2</th>\n",
       "      <td>3</td>\n",
       "      <td>47.85</td>\n",
       "      <td>75.58</td>\n",
       "      <td>0.83</td>\n",
       "      <td>0.04</td>\n",
       "    </tr>\n",
       "    <tr>\n",
       "      <th>3</th>\n",
       "      <td>4</td>\n",
       "      <td>75.56</td>\n",
       "      <td>104.91</td>\n",
       "      <td>2.05</td>\n",
       "      <td>0.07</td>\n",
       "    </tr>\n",
       "    <tr>\n",
       "      <th>4</th>\n",
       "      <td>5</td>\n",
       "      <td>104.91</td>\n",
       "      <td>132.59</td>\n",
       "      <td>3.59</td>\n",
       "      <td>0.09</td>\n",
       "    </tr>\n",
       "  </tbody>\n",
       "</table>\n",
       "</div>"
      ],
      "text/plain": [
       "   Bracket    Over   Up to  Base Tax  On excess\n",
       "0        1    0.00   20.20      0.00       0.01\n",
       "1        2   20.20   47.88      0.22       0.02\n",
       "2        3   47.85   75.58      0.83       0.04\n",
       "3        4   75.56  104.91      2.05       0.07\n",
       "4        5  104.91  132.59      3.59       0.09"
      ]
     },
     "execution_count": 31,
     "metadata": {},
     "output_type": "execute_result"
    }
   ],
   "source": [
    "# Display the head of each dataframe to confirm\n",
    "state_tax_copy.head()"
   ]
  },
  {
   "cell_type": "code",
   "execution_count": 32,
   "id": "452325a5",
   "metadata": {},
   "outputs": [
    {
     "data": {
      "text/html": [
       "<div>\n",
       "<style scoped>\n",
       "    .dataframe tbody tr th:only-of-type {\n",
       "        vertical-align: middle;\n",
       "    }\n",
       "\n",
       "    .dataframe tbody tr th {\n",
       "        vertical-align: top;\n",
       "    }\n",
       "\n",
       "    .dataframe thead th {\n",
       "        text-align: right;\n",
       "    }\n",
       "</style>\n",
       "<table border=\"1\" class=\"dataframe\">\n",
       "  <thead>\n",
       "    <tr style=\"text-align: right;\">\n",
       "      <th></th>\n",
       "      <th>Age</th>\n",
       "      <th>Distribution Period</th>\n",
       "    </tr>\n",
       "  </thead>\n",
       "  <tbody>\n",
       "    <tr>\n",
       "      <th>0</th>\n",
       "      <td>72</td>\n",
       "      <td>27.4</td>\n",
       "    </tr>\n",
       "    <tr>\n",
       "      <th>1</th>\n",
       "      <td>73</td>\n",
       "      <td>26.5</td>\n",
       "    </tr>\n",
       "    <tr>\n",
       "      <th>2</th>\n",
       "      <td>74</td>\n",
       "      <td>25.5</td>\n",
       "    </tr>\n",
       "    <tr>\n",
       "      <th>3</th>\n",
       "      <td>75</td>\n",
       "      <td>24.6</td>\n",
       "    </tr>\n",
       "    <tr>\n",
       "      <th>4</th>\n",
       "      <td>76</td>\n",
       "      <td>23.7</td>\n",
       "    </tr>\n",
       "  </tbody>\n",
       "</table>\n",
       "</div>"
      ],
      "text/plain": [
       "   Age  Distribution Period\n",
       "0   72                 27.4\n",
       "1   73                 26.5\n",
       "2   74                 25.5\n",
       "3   75                 24.6\n",
       "4   76                 23.7"
      ]
     },
     "execution_count": 32,
     "metadata": {},
     "output_type": "execute_result"
    }
   ],
   "source": [
    "# Display the head of each dataframe to confirm\n",
    "\n",
    "life_expectancy_copy.head()"
   ]
  },
  {
   "cell_type": "code",
   "execution_count": 33,
   "id": "59a119ea",
   "metadata": {},
   "outputs": [
    {
     "name": "stdout",
     "output_type": "stream",
     "text": [
      "3.25\n"
     ]
    }
   ],
   "source": [
    "def calculate_state_tax(taxable_income, state, state_tax_df, ma_tax_rate_df):\n",
    "    if state == \"CA\":\n",
    "        # California tax calculation\n",
    "        tax = 0\n",
    "        for index, row in state_tax_df.iterrows():\n",
    "            lower_limit = row['Over']\n",
    "            upper_limit = row['Up to']\n",
    "            base_tax = row['Base Tax']\n",
    "            excess_rate = row['On excess'] / 100  # Convert percentage to decimal\n",
    "\n",
    "            if taxable_income <= lower_limit:\n",
    "                break\n",
    "            elif taxable_income <= upper_limit:\n",
    "                tax = base_tax + (taxable_income - lower_limit) * excess_rate\n",
    "                break\n",
    "            else:\n",
    "                tax = base_tax + (upper_limit - lower_limit) * excess_rate\n",
    "    elif state == \"MA\":\n",
    "        # Massachusetts tax calculation\n",
    "        flat_tax_rate = ma_tax_rate_df.iloc[0]['MA Tax Rate'] / 100  # Correct column name\n",
    "        tax = taxable_income * flat_tax_rate\n",
    "\n",
    "    return tax\n",
    "\n",
    "# Example usage\n",
    "taxable_income = 6500  # Replace with actual taxable income\n",
    "state = \"MA\"  # Or \"MA\" for Massachusetts\n",
    "tax = calculate_state_tax(taxable_income, state, state_tax_df, ma_tax_rate_df)\n",
    "print(tax)\n"
   ]
  },
  {
   "cell_type": "code",
   "execution_count": 37,
   "id": "99c62dfc",
   "metadata": {},
   "outputs": [
    {
     "name": "stdout",
     "output_type": "stream",
     "text": [
      "146.6286\n"
     ]
    }
   ],
   "source": [
    "# Function to calculate state tax for California and Massachusetts using the respective tax brackets\n",
    "def calculate_state_tax(taxable_income, state, state_tax_df, ma_tax_rate_df):\n",
    "    tax = 0.0\n",
    "    if state == \"CA\":\n",
    "        tax = calculate_california_state_tax_rate(taxable_income, state_tax_df)\n",
    "    elif state == \"MA\":\n",
    "        flat_tax_rate = ma_tax_rate_df.iloc[0]['MA Tax Rate'] / 100\n",
    "        tax = taxable_income * flat_tax_rate\n",
    "    return tax\n",
    "\n",
    "# Example usage\n",
    "taxable_income = 6500  # Replace with actual taxable income\n",
    "state = \"CA\"  # Or \"MA\" for Massachusetts\n",
    "tax = calculate_state_tax(taxable_income, state, state_tax_df, ma_tax_rate_df)\n",
    "print(tax)"
   ]
  },
  {
   "cell_type": "code",
   "execution_count": 43,
   "id": "f5e097c4",
   "metadata": {},
   "outputs": [
    {
     "name": "stdout",
     "output_type": "stream",
     "text": [
      "186.6015\n"
     ]
    }
   ],
   "source": [
    "# Function to calculate federal tax for California using the respective tax brackets\n",
    "def calculate_federal_tax(income, federal_tax_df):\n",
    "    federal_tax = 0.0\n",
    "    for index, row in federal_tax_df.iterrows():\n",
    "        if row['Over'] < income <= row['Up to']:\n",
    "            federal_tax = row['Base Tax'] + (income - row['Over']) * row['On excess']\n",
    "            break\n",
    "        elif income > row['Up to']:\n",
    "            federal_tax += (row['Up to'] - row['Over']) * row['On excess']\n",
    "    return federal_tax\n",
    "\n",
    "#Example of usage\n",
    "\n",
    "income = 6500\n",
    "federal_tax=calculate_federal_tax(income, federal_tax_df)\n",
    "print(federal_tax)"
   ]
  },
  {
   "cell_type": "code",
   "execution_count": 35,
   "id": "d284abfd",
   "metadata": {},
   "outputs": [
    {
     "name": "stdout",
     "output_type": "stream",
     "text": [
      "Enter your initial savings amount: 580000\n",
      "Enter your IRA balance: 400000\n",
      "Enter your annual spending: 81500\n",
      "Enter your age: 62\n",
      "Enter the state you live in (MA/CA): CA\n",
      "    Age  Savings Balance  IRA Balance\n",
      "0    62        531336.77    431813.40\n",
      "1    63        479753.75    466171.87\n",
      "2    64        425075.74    503279.02\n",
      "3    65        367117.05    543354.74\n",
      "4    66        305680.85    586636.51\n",
      "5    67        240558.47    633380.83\n",
      "6    68        171528.75    683864.70\n",
      "7    69         98357.24    738387.27\n",
      "8    70         20795.45    797271.65\n",
      "9    71             0.00    799446.73\n",
      "10   72             0.00    719251.31\n",
      "11   73             0.00    638728.08\n",
      "12   74             0.00    557875.71\n",
      "13   75             0.00    476692.85\n",
      "14   76             0.00    395178.15\n",
      "15   77             0.00    313330.24\n",
      "16   78             0.00    231147.78\n",
      "17   79             0.00    148629.39\n",
      "18   80             0.00     65773.69\n",
      "19   81             0.00    -17420.68\n"
     ]
    }
   ],
   "source": [
    "# Function to calculate state tax for California using the respective tax brackets\n",
    "def calculate_california_state_tax_rate(income, df_ca_tax):\n",
    "    tax = 0.0\n",
    "    for index, row in df_ca_tax.iterrows():\n",
    "        if income > row['Over'] and income <= row['Up to']:\n",
    "            tax = row['Base Tax'] + (income - row['Over']) * row['On excess']\n",
    "            break\n",
    "        elif income > row['Up to']:\n",
    "            tax += (row['Up to'] - row['Over']) * row['On excess']\n",
    "    return tax\n",
    "# Function to calculate federal tax for California using the respective tax brackets\n",
    "def calculate_federal_tax(income, federal_tax_df):\n",
    "    federal_tax = 0.0\n",
    "    for index, row in federal_tax_df.iterrows():\n",
    "        if row['Over'] < income <= row['Up to']:\n",
    "            federal_tax = row['Base Tax'] + (income - row['Over']) * row['On excess']\n",
    "            break\n",
    "        elif income > row['Up to']:\n",
    "            federal_tax += (row['Up to'] - row['Over']) * row['On excess']\n",
    "    return federal_tax\n",
    "\n",
    "# Function to calculate state tax for California and Massachusetts using the respective tax brackets\n",
    "def calculate_state_tax(taxable_income, state, state_tax_df, ma_tax_rate_df):\n",
    "    tax = 0.0\n",
    "    if state == \"CA\":\n",
    "        tax = calculate_california_state_tax_rate(taxable_income, state_tax_df)\n",
    "    elif state == \"MA\":\n",
    "        flat_tax_rate = ma_tax_rate_df.iloc[0]['MA Tax Rate'] / 100\n",
    "        tax = taxable_income * flat_tax_rate\n",
    "    return tax\n",
    "\n",
    "def CashFlow_Projection(savings_balance, ira_balance, annual_spending,\n",
    "                        savings_interest_rate, ira_interest_rate,\n",
    "                        current_age, life_expectancy, state, \n",
    "                        inflation_rates, state_tax_df, ma_tax_rate_df,\n",
    "                        federal_tax_df):\n",
    "    \n",
    "    # List to store yearly balances\n",
    "    yearly_balances = []\n",
    "    \n",
    "    # Initialize age for the projection\n",
    "    age = current_age\n",
    "    \n",
    "    # Main loop for projecting cash flow\n",
    "    while age <= life_expectancy and (savings_balance > 0 or ira_balance > 0):\n",
    "        \n",
    "        # Calculate total spending for the year\n",
    "        total_spending = annual_spending\n",
    "\n",
    "        # Adjust spending for inflation\n",
    "        inflation_rate = inflation_rates.get(age, 0.02)\n",
    "        total_spending *= (1 + inflation_rate)\n",
    "\n",
    "        # Calculate state tax if applicable\n",
    "        if state in [\"CA\", \"MA\"]:\n",
    "            state_tax = calculate_state_tax(savings_balance + ira_balance, state, state_tax_df, ma_tax_rate_df)\n",
    "            total_spending += state_tax\n",
    "\n",
    "        # RMD calculation for age 72 and above\n",
    "        if age >= 72:\n",
    "            rmd = ira_balance / 27.4  # Adjust divisor if needed\n",
    "            ira_balance -= rmd\n",
    "            total_spending += rmd\n",
    "\n",
    "        # Calculate interest and tax for savings\n",
    "        savings_interest = savings_balance * savings_interest_rate\n",
    "        savings_interest_tax = calculate_federal_tax(savings_interest, federal_tax_df)\n",
    "        savings_balance += savings_interest - savings_interest_tax\n",
    "\n",
    "        # Calculate interest and tax for IRA\n",
    "        ira_interest = ira_balance * ira_interest_rate\n",
    "        ira_interest_tax = calculate_federal_tax(ira_interest, federal_tax_df)\n",
    "        ira_balance += ira_interest - ira_interest_tax\n",
    "\n",
    "        # Update balances based on spending\n",
    "        if savings_balance >= total_spending:\n",
    "            savings_balance -= total_spending\n",
    "        else:\n",
    "            remaining_spending = total_spending - savings_balance\n",
    "            savings_balance = 0\n",
    "            ira_balance -= remaining_spending\n",
    "\n",
    "        # Append yearly balances to the list\n",
    "        yearly_balances.append({'Age': age, 'Savings Balance': round(savings_balance, 2),\n",
    "                                'IRA Balance': round(ira_balance, 2)})\n",
    "\n",
    "        # Increment age for the next iteration\n",
    "        age += 1\n",
    "        \n",
    "    # Convert the list of yearly balances to a DataFrame and return\n",
    "    return pd.DataFrame(yearly_balances)\n",
    "\n",
    "\n",
    "def main():\n",
    "    \n",
    "     # Input values from the user\n",
    "    savings_balance = float(input('Enter your initial savings amount: '))\n",
    "    ira_balance = float(input('Enter your IRA balance: '))\n",
    "    annual_spending = float(input('Enter your annual spending: '))\n",
    "    current_age = int(input('Enter your age: '))\n",
    "    state = input('Enter the state you live in (MA/CA): ')\n",
    "\n",
    "    # Extract the relevant inflation rates column from the dataframe\n",
    "    inflation_rates = inflation_rate_df\n",
    "\n",
    "    # Call the CashFlow_Projection function with user-provided inputs\n",
    "    result_df = CashFlow_Projection(savings_balance, ira_balance, annual_spending,\n",
    "                                    0.06, 0.08, current_age, 82, state, inflation_rate_copy,\n",
    "                                    state_tax_copy, ma_tax_rate_copy, federal_tax_copy)\n",
    "\n",
    "    print(result_df)\n",
    "\n",
    "if __name__ == \"__main__\":\n",
    "    main()\n"
   ]
  },
  {
   "cell_type": "markdown",
   "id": "e09fc3b5",
   "metadata": {},
   "source": [
    "### Recommendations\n",
    "\n",
    "**Considerations for Moving to California Beyond Financial Aspects**\n",
    "\n",
    "Moving to California presents a blend of opportunities and challenges. The state boasts a vibrant lifestyle, diverse cultural experiences, and a pleasant climate in many areas. However, a comprehensive analysis is essential, especially considering the higher cost of living, particularly in housing and transportation. While California's tax structure, like its progressive income tax system, can pose challenges for some, it also offers benefits such as no state tax on Social Security benefits(California Retirement Tax Friendliness, n.d.), making it potentially advantageous for retirees. The decision to relocate should weigh the state's quality of life benefits against potential drawbacks, like urban congestion or natural disaster risks. Ultimately, with careful financial planning and a focus on long-term stability, California can offer a fulfilling and enriching living experience.\n",
    "\n",
    "**Recommendations for Handling a Massachusetts House in Retirement**\n",
    "\n",
    "For the retiree's Massachusetts home, several recommendations can guide their decision-making. They could opt to rent out the property, providing a consistent income while potentially benefiting from property appreciation. Alternatively, selling the house can offer immediate liquidity, streamlining their finances in California. Property management services offer a hands-off approach for landlords, handling tenant-related tasks. Downsizing is another option, reducing maintenance and potentially freeing up funds. For those valuing family ties, gifting or estate planning can ensure the property remains within the family. However, any decision should factor in potential tax implications, with professional advice being invaluable. Ultimately, balancing financial considerations with emotional attachment will help determine the best course of action for the retiree.\n",
    "\n",
    "**Considerations to Grandkids for Grandparents Moving to California**\n",
    "\n",
    "The retirees face a poignant dilemma as they consider relocating to California while their beloved grandchildren reside in Massachusetts. This emotional connection underscores the intricate balance many retirees grapple with: the pull of family ties versus the allure of a new environment or financial benefits elsewhere. While California might offer its own set of advantages, the deep-rooted bond with their grandchildren in Massachusetts presents a compelling reason to either delay their move, explore frequent visitation options, or leverage technology to stay connected. Ultimately, this underscores the intricate decisions retirees face, where the heart often weighs as heavily as financial or lifestyle considerations.\n"
   ]
  },
  {
   "cell_type": "markdown",
   "id": "02aa25e5",
   "metadata": {},
   "source": [
    "### REFERENCES:\n",
    "\n",
    "California Retirement Tax Friendliness. (n.d.). SmartAsset. Retrieved December 20, 2023, from https://smartasset.com/retirement/california-retirement-taxes#:~:text=While%20California%20exempts%20Social%20Security"
   ]
  },
  {
   "cell_type": "code",
   "execution_count": null,
   "id": "9d17e500",
   "metadata": {},
   "outputs": [],
   "source": []
  }
 ],
 "metadata": {
  "kernelspec": {
   "display_name": "Python 3 (ipykernel)",
   "language": "python",
   "name": "python3"
  },
  "language_info": {
   "codemirror_mode": {
    "name": "ipython",
    "version": 3
   },
   "file_extension": ".py",
   "mimetype": "text/x-python",
   "name": "python",
   "nbconvert_exporter": "python",
   "pygments_lexer": "ipython3",
   "version": "3.11.5"
  },
  "toc": {
   "base_numbering": 1,
   "nav_menu": {},
   "number_sections": true,
   "sideBar": true,
   "skip_h1_title": false,
   "title_cell": "Table of Contents",
   "title_sidebar": "Contents",
   "toc_cell": false,
   "toc_position": {},
   "toc_section_display": true,
   "toc_window_display": false
  },
  "varInspector": {
   "cols": {
    "lenName": 16,
    "lenType": 16,
    "lenVar": 40
   },
   "kernels_config": {
    "python": {
     "delete_cmd_postfix": "",
     "delete_cmd_prefix": "del ",
     "library": "var_list.py",
     "varRefreshCmd": "print(var_dic_list())"
    },
    "r": {
     "delete_cmd_postfix": ") ",
     "delete_cmd_prefix": "rm(",
     "library": "var_list.r",
     "varRefreshCmd": "cat(var_dic_list()) "
    }
   },
   "types_to_exclude": [
    "module",
    "function",
    "builtin_function_or_method",
    "instance",
    "_Feature"
   ],
   "window_display": false
  }
 },
 "nbformat": 4,
 "nbformat_minor": 5
}
